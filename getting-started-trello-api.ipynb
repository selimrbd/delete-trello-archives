{
 "cells": [
  {
   "cell_type": "markdown",
   "metadata": {},
   "source": [
    "# getting-started-trello-api"
   ]
  },
  {
   "cell_type": "markdown",
   "metadata": {},
   "source": [
    "## reference"
   ]
  },
  {
   "cell_type": "markdown",
   "metadata": {},
   "source": [
    "* [Rate Limits](https://help.trello.com/article/838-api-rate-limits): **100 calls per 10 sec** for each key/token\n",
    "* [Batch requests](https://developer.atlassian.com/cloud/trello/rest/api-group-batch/)\n",
    "* [Search](https://developer.atlassian.com/cloud/trello/rest/api-group-search/#api-search-get) (query: `is:archived`)\n",
    "* [Delete cards](https://developer.atlassian.com/cloud/trello/rest/api-group-cards/#api-cards-id-delete)"
   ]
  },
  {
   "cell_type": "markdown",
   "metadata": {},
   "source": [
    "## setup"
   ]
  },
  {
   "cell_type": "code",
   "execution_count": 1,
   "metadata": {
    "ExecuteTime": {
     "end_time": "2020-08-10T13:37:36.440621Z",
     "start_time": "2020-08-10T13:37:36.280925Z"
    }
   },
   "outputs": [],
   "source": [
    "from pathlib import Path\n",
    "import json\n",
    "import time\n",
    "\n",
    "import grequests\n",
    "import requests\n",
    "\n",
    "path_trello_creds = Path('/home/selim/.trello')\n",
    "\n",
    "## get trello credentials.\n",
    "## should be in ~/.trello, with the following format:\n",
    "#key=...\n",
    "#token=...\n",
    "with open(path_trello_creds, 'r') as f:\n",
    "    c = f.read()\n",
    "creds_key = c.split('\\n')[0].split('=')[1]\n",
    "creds_token = c.split('\\n')[1].split('=')[1]"
   ]
  },
  {
   "cell_type": "markdown",
   "metadata": {},
   "source": [
    "## API CALL"
   ]
  },
  {
   "cell_type": "markdown",
   "metadata": {},
   "source": [
    "### get archived cards"
   ]
  },
  {
   "cell_type": "code",
   "execution_count": 2,
   "metadata": {
    "ExecuteTime": {
     "end_time": "2020-08-10T13:37:37.359934Z",
     "start_time": "2020-08-10T13:37:37.349022Z"
    }
   },
   "outputs": [],
   "source": [
    "def get_archived_cards(key, token, query='is:archived', cards_limit=1000, verbose=1):\n",
    "    if verbose > 0:\n",
    "        print('getting list of archived cards...')\n",
    "    params = {'key':creds_key, 'token':creds_token, 'query':query, 'cards_limit':cards_limit}\n",
    "    url_search = 'https://api.trello.com/1/search'\n",
    "    r = requests.get(url_search, params=params)\n",
    "    if verbose > 0:\n",
    "        print(r)\n",
    "    out = json.loads(r.text)\n",
    "    return(out['cards'])"
   ]
  },
  {
   "cell_type": "markdown",
   "metadata": {},
   "source": [
    "### delete"
   ]
  },
  {
   "cell_type": "markdown",
   "metadata": {},
   "source": [
    "### batch requests"
   ]
  },
  {
   "cell_type": "markdown",
   "metadata": {},
   "source": [
    "trello batch requests only work for GET"
   ]
  },
  {
   "cell_type": "code",
   "execution_count": 6,
   "metadata": {
    "ExecuteTime": {
     "end_time": "2020-08-10T13:44:55.711257Z",
     "start_time": "2020-08-10T13:44:45.432643Z"
    }
   },
   "outputs": [
    {
     "name": "stdout",
     "output_type": "stream",
     "text": [
      "getting list of archived cards...\n",
      "<Response [200]>\n",
      "found 1000 cards archived\n",
      "nb of batches: 10\n",
      "running 100 requests asynchronously\n",
      "sleeping for 10 seconds...\n"
     ]
    },
    {
     "name": "stderr",
     "output_type": "stream",
     "text": [
      "KeyboardInterrupt\n",
      "2020-08-10T13:44:55Z\n"
     ]
    },
    {
     "ename": "KeyboardInterrupt",
     "evalue": "",
     "output_type": "error",
     "traceback": [
      "\u001b[0;31m---------------------------------------------------------------------------\u001b[0m",
      "\u001b[0;31mKeyboardInterrupt\u001b[0m                         Traceback (most recent call last)",
      "\u001b[0;32m<ipython-input-6-49b90a98d555>\u001b[0m in \u001b[0;36m<module>\u001b[0;34m\u001b[0m\n\u001b[1;32m     22\u001b[0m             \u001b[0mlogs\u001b[0m\u001b[0;34m.\u001b[0m\u001b[0mappend\u001b[0m\u001b[0;34m(\u001b[0m\u001b[0;34m{\u001b[0m\u001b[0;34m'id'\u001b[0m\u001b[0;34m:\u001b[0m \u001b[0mcid\u001b[0m\u001b[0;34m,\u001b[0m \u001b[0;34m'name'\u001b[0m\u001b[0;34m:\u001b[0m \u001b[0mname\u001b[0m\u001b[0;34m,\u001b[0m \u001b[0;34m'response'\u001b[0m\u001b[0;34m:\u001b[0m\u001b[0mr\u001b[0m\u001b[0;34m}\u001b[0m\u001b[0;34m)\u001b[0m\u001b[0;34m\u001b[0m\u001b[0;34m\u001b[0m\u001b[0m\n\u001b[1;32m     23\u001b[0m         \u001b[0mprint\u001b[0m\u001b[0;34m(\u001b[0m\u001b[0;34mf'sleeping for {sleep_sec} seconds...'\u001b[0m\u001b[0;34m)\u001b[0m\u001b[0;34m\u001b[0m\u001b[0;34m\u001b[0m\u001b[0m\n\u001b[0;32m---> 24\u001b[0;31m         \u001b[0mtime\u001b[0m\u001b[0;34m.\u001b[0m\u001b[0msleep\u001b[0m\u001b[0;34m(\u001b[0m\u001b[0msleep_sec\u001b[0m\u001b[0;34m)\u001b[0m\u001b[0;34m\u001b[0m\u001b[0;34m\u001b[0m\u001b[0m\n\u001b[0m\u001b[1;32m     25\u001b[0m \u001b[0;34m\u001b[0m\u001b[0m\n\u001b[1;32m     26\u001b[0m     \u001b[0mtotal_cards_processed\u001b[0m \u001b[0;34m+=\u001b[0m \u001b[0mlen\u001b[0m\u001b[0;34m(\u001b[0m\u001b[0mcards\u001b[0m\u001b[0;34m)\u001b[0m\u001b[0;34m\u001b[0m\u001b[0;34m\u001b[0m\u001b[0m\n",
      "\u001b[0;32m~/datascience/anaconda3/envs/trello/lib/python3.7/site-packages/gevent/hub.py\u001b[0m in \u001b[0;36msleep\u001b[0;34m(seconds, ref)\u001b[0m\n\u001b[1;32m    161\u001b[0m             \u001b[0;31m# important to update the loop's notion of now before we start\u001b[0m\u001b[0;34m\u001b[0m\u001b[0;34m\u001b[0m\u001b[0;34m\u001b[0m\u001b[0m\n\u001b[1;32m    162\u001b[0m             \u001b[0mloop\u001b[0m\u001b[0;34m.\u001b[0m\u001b[0mupdate_now\u001b[0m\u001b[0;34m(\u001b[0m\u001b[0;34m)\u001b[0m\u001b[0;34m\u001b[0m\u001b[0;34m\u001b[0m\u001b[0m\n\u001b[0;32m--> 163\u001b[0;31m             \u001b[0mhub\u001b[0m\u001b[0;34m.\u001b[0m\u001b[0mwait\u001b[0m\u001b[0;34m(\u001b[0m\u001b[0mt\u001b[0m\u001b[0;34m)\u001b[0m\u001b[0;34m\u001b[0m\u001b[0;34m\u001b[0m\u001b[0m\n\u001b[0m\u001b[1;32m    164\u001b[0m \u001b[0;34m\u001b[0m\u001b[0m\n\u001b[1;32m    165\u001b[0m \u001b[0;34m\u001b[0m\u001b[0m\n",
      "\u001b[0;32m~/datascience/anaconda3/envs/trello/lib/python3.7/site-packages/gevent/_gevent_c_hub_primitives.cpython-37m-x86_64-linux-gnu.so\u001b[0m in \u001b[0;36mgevent._gevent_c_hub_primitives.WaitOperationsGreenlet.wait\u001b[0;34m()\u001b[0m\n",
      "\u001b[0;32m~/datascience/anaconda3/envs/trello/lib/python3.7/site-packages/gevent/_gevent_c_hub_primitives.cpython-37m-x86_64-linux-gnu.so\u001b[0m in \u001b[0;36mgevent._gevent_c_hub_primitives.WaitOperationsGreenlet.wait\u001b[0;34m()\u001b[0m\n",
      "\u001b[0;32m~/datascience/anaconda3/envs/trello/lib/python3.7/site-packages/gevent/_gevent_c_waiter.cpython-37m-x86_64-linux-gnu.so\u001b[0m in \u001b[0;36mgevent._gevent_c_waiter.Waiter.get\u001b[0;34m()\u001b[0m\n",
      "\u001b[0;32m~/datascience/anaconda3/envs/trello/lib/python3.7/site-packages/gevent/_gevent_c_greenlet_primitives.cpython-37m-x86_64-linux-gnu.so\u001b[0m in \u001b[0;36mgevent._gevent_c_greenlet_primitives.SwitchOutGreenletWithLoop.switch\u001b[0;34m()\u001b[0m\n",
      "\u001b[0;32m~/datascience/anaconda3/envs/trello/lib/python3.7/site-packages/gevent/_gevent_c_greenlet_primitives.cpython-37m-x86_64-linux-gnu.so\u001b[0m in \u001b[0;36mgevent._gevent_c_greenlet_primitives.SwitchOutGreenletWithLoop.switch\u001b[0;34m()\u001b[0m\n",
      "\u001b[0;32m~/datascience/anaconda3/envs/trello/lib/python3.7/site-packages/gevent/_gevent_c_greenlet_primitives.cpython-37m-x86_64-linux-gnu.so\u001b[0m in \u001b[0;36mgevent._gevent_c_greenlet_primitives.SwitchOutGreenletWithLoop.switch\u001b[0;34m()\u001b[0m\n",
      "\u001b[0;32msrc/gevent/_gevent_c_greenlet_primitives.pxd\u001b[0m in \u001b[0;36mgevent._gevent_c_greenlet_primitives._greenlet_switch\u001b[0;34m()\u001b[0m\n",
      "\u001b[0;31mKeyboardInterrupt\u001b[0m: "
     ]
    }
   ],
   "source": [
    "total_cards_processed = 0\n",
    "nb_batch = 100\n",
    "sleep_sec = 10\n",
    "params = {'key':creds_key, 'token':creds_token}\n",
    "logs = list()\n",
    "cards = get_archived_cards(creds_key, creds_token)\n",
    "while len(cards) > 0:\n",
    "    print(f'found {len(cards)} cards archived')\n",
    "    cards_id = [c['id'] for c in cards]\n",
    "    cards_name = [c['name'] for c in cards]\n",
    "    nb_batchs = (len(cards) // nb_batch) + 1*(len(cards)%nb_batch > 0)\n",
    "    print(f'nb of batches: {nb_batchs}')\n",
    "    \n",
    "    for i in range(nb_batchs):\n",
    "        tmp_ids = cards_id[i*nb_batch:min((i+1)*nb_batch, len(cards))]\n",
    "        tmp_names = cards_name[i*nb_batch:min((i+1)*nb_batch, len(cards))]\n",
    "        urls = [f'https://api.trello.com/1/cards/{cid}' for cid in tmp_ids]\n",
    "        async_list = [grequests.request('DELETE', u, params=params) for u in urls]\n",
    "        print(f'running {len(async_list)} requests asynchronously')\n",
    "        outputs = grequests.map(async_list)\n",
    "        total_cards_processed += len(cards)\n",
    "        for (cid, name, r) in zip(tmp_ids, tmp_names, outputs):\n",
    "            logs.append({'id': cid, 'name': name, 'response':r})\n",
    "        print(f'sleeping for {sleep_sec} seconds...')\n",
    "        time.sleep(sleep_sec)\n",
    "\n",
    "    print(f'updating list of archived cards...')\n",
    "    cards = get_archived_cards(creds_key, creds_token)\n",
    "    time.sleep(sleep_sec)"
   ]
  },
  {
   "cell_type": "code",
   "execution_count": 5,
   "metadata": {
    "ExecuteTime": {
     "end_time": "2020-08-10T13:43:45.645313Z",
     "start_time": "2020-08-10T13:43:45.637146Z"
    }
   },
   "outputs": [
    {
     "name": "stdout",
     "output_type": "stream",
     "text": [
      "total nb of cards processed: 2264\n",
      "successful processing: 2463/2264\n"
     ]
    }
   ],
   "source": [
    "#assert len(logs) == total_cards_processed\n",
    "nb_success = len([l for l in logs if l['response'].status_code == 200]) \n",
    "errors = [l for l in logs if l['response'].status_code != 200]\n",
    "\n",
    "print(f'total nb of cards processed: {total_cards_processed}')\n",
    "print(f'successful processing: {nb_success}/{total_cards_processed}')"
   ]
  }
 ],
 "metadata": {
  "hide_input": false,
  "kernelspec": {
   "display_name": "Python [conda env:trello]",
   "language": "python",
   "name": "conda-env-trello-py"
  },
  "language_info": {
   "codemirror_mode": {
    "name": "ipython",
    "version": 3
   },
   "file_extension": ".py",
   "mimetype": "text/x-python",
   "name": "python",
   "nbconvert_exporter": "python",
   "pygments_lexer": "ipython3",
   "version": "3.7.7"
  },
  "toc": {
   "base_numbering": 1,
   "nav_menu": {},
   "number_sections": true,
   "sideBar": true,
   "skip_h1_title": false,
   "title_cell": "Table of Contents",
   "title_sidebar": "Contents",
   "toc_cell": false,
   "toc_position": {},
   "toc_section_display": true,
   "toc_window_display": false
  },
  "varInspector": {
   "cols": {
    "lenName": 16,
    "lenType": 16,
    "lenVar": 40
   },
   "kernels_config": {
    "python": {
     "delete_cmd_postfix": "",
     "delete_cmd_prefix": "del ",
     "library": "var_list.py",
     "varRefreshCmd": "print(var_dic_list())"
    },
    "r": {
     "delete_cmd_postfix": ") ",
     "delete_cmd_prefix": "rm(",
     "library": "var_list.r",
     "varRefreshCmd": "cat(var_dic_list()) "
    }
   },
   "types_to_exclude": [
    "module",
    "function",
    "builtin_function_or_method",
    "instance",
    "_Feature"
   ],
   "window_display": true
  }
 },
 "nbformat": 4,
 "nbformat_minor": 4
}
